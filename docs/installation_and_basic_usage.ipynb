{
 "cells": [
  {
   "cell_type": "markdown",
   "metadata": {},
   "source": [
    "# Tutorial: Working with this stactools subpackage\n",
    "\n",
    "Stactools ([docs](https://stactools.readthedocs.io/en/latest/), [source](https://github.com/stac-utils/stactools)) is a command line tool and library for working with [STAC](https://stacspec.org/), based on [PySTAC](https://github.com/stac-utils/pystac).\n",
    "\n",
    "[Stactools dataset packages](https://github.com/stactools-packages) are add-ons for stactools that provide STAC functionality for specific datasets, such as [Sentinel 2](https://github.com/stactools-packages/sentinel2) and [Landsat](https://github.com/stactools-packages/landsat).\n",
    "\n",
    "Stactools and its dataset packages can be accessed from the CLI or from within normal Python code. This notebook provides examples of both."
   ]
  },
  {
   "cell_type": "markdown",
   "metadata": {},
   "source": [
    "## 1. Using this notebook\n",
    "\n",
    "The easiest way to use this notebook is to run it through `scripts/notebook`. This will create a Docker container already set up with the prerequisites and open the stactools dataset folder. Navigate to `docs/` to find this notebook.\n",
    "\n",
    "If you wish to use this notebook outside of the container (such as on mybinder.org) then please install the prerequisites using:"
   ]
  },
  {
   "cell_type": "code",
   "execution_count": null,
   "metadata": {},
   "outputs": [],
   "source": [
    "!pip install stactools-nclimgrid"
   ]
  },
  {
   "cell_type": "markdown",
   "metadata": {},
   "source": [
    "## 2. Using the stactools dataset package from the CLI"
   ]
  },
  {
   "cell_type": "markdown",
   "metadata": {},
   "source": [
    "The first thing we can do is check that the `stac` CLI tool is installed and explore the options. Notice the inclusion of the command for this dataset package in stactools now."
   ]
  },
  {
   "cell_type": "code",
   "execution_count": 17,
   "metadata": {},
   "outputs": [
    {
     "name": "stdout",
     "output_type": "stream",
     "text": [
      "Usage: stac [OPTIONS] COMMAND [ARGS]...\n",
      "\n",
      "Options:\n",
      "  -v, --verbose  Use verbose mode\n",
      "  -q, --quiet    Use quiet mode (no output)\n",
      "  --help         Show this message and exit.\n",
      "\n",
      "Commands:\n",
      "  add          Add an item to a catalog/collection.\n",
      "  addraster    Add raster extension to an Item.\n",
      "  copy         Copy a STAC Catalog\n",
      "  create-item  Creates an item from an asset\n",
      "  describe     Prints out a list of all catalogs, collections and items in\n",
      "               this STAC.\n",
      "  info         Display info about a static STAC catalog.\n",
      "  layout       Reformat the layout of a STAC based on templating.\n",
      "  merge        Merge items from one STAC into another.\n",
      "  move-assets  Move or copy assets in a STAC to the Item locations.\n",
      "  nclimgrid    Commands for working with stactools-nclimgrid\n",
      "  validate     Validate a stac object.\n",
      "  version      Display version info.\n"
     ]
    }
   ],
   "source": [
    "!stac"
   ]
  },
  {
   "cell_type": "markdown",
   "metadata": {},
   "source": [
    "You can now explore the STAC dataset package commands to ingest and describe the data"
   ]
  },
  {
   "cell_type": "code",
   "execution_count": 18,
   "metadata": {},
   "outputs": [
    {
     "name": "stdout",
     "output_type": "stream",
     "text": [
      "Usage: stac nclimgrid [OPTIONS] COMMAND [ARGS]...\n",
      "\n",
      "Options:\n",
      "  --help  Show this message and exit.\n",
      "\n",
      "Commands:\n",
      "  create-daily-collection    Create a daily NClimGrid STAC collection\n",
      "  create-daily-item          Create a single daily NClimGrid STAC item\n",
      "  create-monthly-collection  Create a monthly NClimGrid STAC collection\n",
      "  create-monthly-item        Create a single monthly NClimGrid STAC item\n"
     ]
    }
   ],
   "source": [
    "!stac nclimgrid --help"
   ]
  },
  {
   "cell_type": "markdown",
   "metadata": {},
   "source": [
    "And more specific help with an individual command."
   ]
  },
  {
   "cell_type": "code",
   "execution_count": 19,
   "metadata": {},
   "outputs": [
    {
     "name": "stdout",
     "output_type": "stream",
     "text": [
      "Usage: stac nclimgrid create-daily-item [OPTIONS] DESTINATION YEAR MONTH DAY\n",
      "                                        {scaled|prelim} BASE_COG_HREF\n",
      "\n",
      "  Create a STAC Item for a single day of daily NClimGrid data with optional\n",
      "  COG creation from NetCDF data.\n",
      "\n",
      "  DESTINATION (str): A directory where the STAC Item JSON file will be\n",
      "                     saved\n",
      "  YEAR (int): STAC Item year\n",
      "  MONTH (int): STAC Item month\n",
      "  DAY (int): STAC Item day\n",
      "  SCALED_OR_PRELIM (str): Choice to use \"scaled\" or \"prelim\" data\n",
      "  BASE_COG_HREF (str): Flat file COG location (COGs are existing or,\n",
      "                       optionally, created from NetCDF data)\n",
      "\n",
      "Options:\n",
      "  --base_nc_href TEXT  option to create COGs from NetCDFs found at this href\n",
      "  --help               Show this message and exit.\n"
     ]
    }
   ],
   "source": [
    "!stac nclimgrid create-daily-item --help"
   ]
  },
  {
   "cell_type": "markdown",
   "metadata": {},
   "source": [
    "## 3. Using the stactools dataset package from within Python code"
   ]
  },
  {
   "cell_type": "markdown",
   "metadata": {},
   "source": [
    "So far we've used Jupyter Notebooks' IPython [line magic](https://ipython.readthedocs.io/en/stable/interactive/magics.html) to work with stactools packages on the command line, but it's also possible to use them within Python scripts."
   ]
  },
  {
   "cell_type": "code",
   "execution_count": null,
   "metadata": {},
   "outputs": [],
   "source": [
    "import json\n",
    "\n",
    "from pystac import CatalogType\n",
    "\n",
    "from stactools.nclimgrid import monthly_stac\n",
    "\n",
    "\n",
    "# Create a collection with a single item using existing COGS assets. This\n",
    "# example generates the collection and item in the \"examples/monthly\" directory.\n",
    "collection = monthly_stac.create_monthly_collection(\n",
    "    \"189501\",\n",
    "    \"189501\",\n",
    "    \"../tests/test-data/cog/monthly\"\n",
    ")\n",
    "collection.catalog_type = CatalogType.RELATIVE_PUBLISHED\n",
    "collection.set_self_href(\"temp\")\n",
    "collection.normalize_hrefs(\"temp\")\n",
    "collection.validate()\n",
    "\n",
    "print(json.dumps(collection.to_dict(), indent=2))"
   ]
  },
  {
   "cell_type": "code",
   "execution_count": null,
   "id": "855f39c4",
   "metadata": {},
   "outputs": [],
   "source": [
    "import json\n",
    "from tempfile import TemporaryDirectory\n",
    "\n",
    "from stactools.nclimgrid import daily_stac\n",
    "\n",
    "\n",
    "# Create a month of daily items from remote NetCDF data. COGs will also be \n",
    "# created. Since data is being downloaded from a remote source, this example may\n",
    "# take a few minutes to complete.\n",
    "base_nc_href = \"https://www1.ncdc.noaa.gov/pub/data/daily-grids\"\n",
    "with TemporaryDirectory() as tmp_cog_dir:\n",
    "    month_of_items = daily_stac.create_daily_items(\n",
    "        2021, 12, \"scaled\", tmp_cog_dir, base_nc_href=base_nc_href)\n",
    "\n",
    "print(f\"{len(month_of_items)} items were created.\\n\")\n",
    "print(\"The first item:\")\n",
    "print(json.dumps(month_of_items[0].to_dict(), indent=2))"
   ]
  }
 ],
 "metadata": {
  "interpreter": {
   "hash": "c2bee1ab741e827a7e677add16aa73fb04c1c623305731aa61866545d78e2921"
  },
  "kernelspec": {
   "display_name": "Python 3.9.5 64-bit ('stactools-spot': conda)",
   "name": "python3"
  },
  "language_info": {
   "codemirror_mode": {
    "name": "ipython",
    "version": 3
   },
   "file_extension": ".py",
   "mimetype": "text/x-python",
   "name": "python",
   "nbconvert_exporter": "python",
   "pygments_lexer": "ipython3",
   "version": "3.10.2"
  }
 },
 "nbformat": 4,
 "nbformat_minor": 5
}
